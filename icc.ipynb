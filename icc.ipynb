{
  "nbformat": 4,
  "nbformat_minor": 0,
  "metadata": {
    "colab": {
      "provenance": [],
      "collapsed_sections": [
        "vWxgSec8EfsN",
        "T5pJdxR_Ejo4",
        "WrTnUJo2E1HT",
        "yogGa__IFMq0",
        "IsOi-FvYFdqi",
        "iX4CWI-zFl7R",
        "Tb-J1O8WGzdc"
      ]
    },
    "kernelspec": {
      "name": "python3",
      "display_name": "Python 3"
    },
    "language_info": {
      "name": "python"
    }
  },
  "cells": [
    {
      "cell_type": "markdown",
      "source": [
        "# 🌱🌱🌱 **The Invisible Carbon Calculator** 🌱🌱🌱\n",
        "\n",
        "---\n",
        "\n",
        "### *Uncover the carbon footprint you can’t see—at home, on the road, and online.*\n",
        "\n",
        "---\n",
        "\n",
        "#### **What is Invisible Carbon?**  \n",
        "🧭🌍🚀  \n",
        "**Next-gen calculator:**  \n",
        "- 🍔 Food  \n",
        "- 🚗 Travel  \n",
        "- 💡 Energy  \n",
        "- 📱 Digital Life (Streaming 🎬, Scrolling 📲, Cloud ☁️, Notifications 🔔)\n",
        "\n",
        "---\n",
        "\n",
        "#### **How It Works**\n",
        "🔢 ➡️ 📊 ➡️ 🤖✨\n",
        "\n",
        "1️⃣ **Input habits**  \n",
        "2️⃣ **See instant, interactive charts**  \n",
        "3️⃣ **Get AI-powered, personalized tips**  \n",
        "\n",
        "---\n",
        "\n",
        "#### **Features**  \n",
        "- 📊 **Live visualizations**\n",
        "- 🤖 **Smart AI suggestions**\n",
        "- 🚦 **Digital + daily life**\n",
        "- 🛡️ **Privacy-first**\n",
        "\n",
        "---\n",
        "\n",
        "#### **Why Invisible Carbon?**\n",
        "> 🌫️ **Others miss your digital life**—Invisible Carbon reveals it!  \n",
        "> 🌱 **See the full story. Make real change.**\n",
        "\n",
        "---\n",
        "\n",
        "✨ *Discover the unseen.  \n",
        "🌎 Act for the planet.  \n",
        "⚡️ Make every click count!* ✨\n",
        "\n",
        "---\n",
        "\n"
      ],
      "metadata": {
        "id": "QtLtcoEEDpMs"
      }
    },
    {
      "cell_type": "markdown",
      "source": [
        "###**Set-Up**"
      ],
      "metadata": {
        "id": "vWxgSec8EfsN"
      }
    },
    {
      "cell_type": "code",
      "source": [
        "import json\n",
        "import requests\n",
        "import matplotlib.pyplot as plt\n",
        "import numpy as np\n",
        "from datetime import datetime\n",
        "from IPython.display import Markdown\n",
        "from google.colab import userdata\n",
        "\n",
        "GEMINI_API_KEY = userdata.get('PATEL_GEMINI_KEY')"
      ],
      "metadata": {
        "id": "NrNgYuguDwNp"
      },
      "execution_count": 22,
      "outputs": []
    },
    {
      "cell_type": "markdown",
      "source": [
        "###**Data and Variables Collection**"
      ],
      "metadata": {
        "id": "T5pJdxR_Ejo4"
      }
    },
    {
      "cell_type": "code",
      "source": [
        "\"\"\"========== EMISSION FACTORS (kg CO2e) - VERIFIED SOURCES ===========\"\"\"\n",
        "# Transportation Sources: EPA, EEA, ICAO\n",
        "\n",
        "TRANSPORT_FACTORS = {\n",
        "    \"gasoline_car\": 0.192,          # per km (EPA)\n",
        "    \"diesel_car\": 0.171,             # per km (EEA)\n",
        "    \"electric_car\": 0.053,           # per km (IEA global electricity mix)\n",
        "    \"bus\": 0.089,                    # per km (UITP)\n",
        "    \"train\": 0.041,                  # per km (UIC)\n",
        "    \"short_flight\": 0.25,            # per km (ICAO <500km)\n",
        "    \"long_flight\": 0.18,             # per km (ICAO >500km)\n",
        "    \"motorbike\": 0.113               # per km (EEA)\n",
        "}\n",
        "\n",
        "# Dietary Sources: Poore & Nemecek (Science, 2018)\n",
        "DIET_FACTORS = {\n",
        "    \"meat_heavy\": 2.5,               # per meal\n",
        "    \"meat_medium\": 1.8,\n",
        "    \"vegetarian\": 1.2,\n",
        "    \"vegan\": 0.8,\n",
        "    \"pescatarian\": 1.5\n",
        "}\n",
        "\n",
        "# Household Sources: IEA, IPCC, Water Footprint Network\n",
        "HOUSEHOLD_FACTORS = {\n",
        "    \"electricity\": 0.5,              # per kWh (IEA global avg)\n",
        "    \"natural_gas\": 1.89,             # per m³ (IPCC)\n",
        "    \"heating_oil\": 2.68,             # per liter (IPCC)\n",
        "    \"water\": 0.3,                    # per m³\n",
        "    \"waste\": 0.1                     # per kg\n",
        "}\n",
        "\n",
        "# Digital Sources: ADEME, Shift Project, Berkeley Lab\n",
        "DIGITAL_FACTORS = {\n",
        "    \"smartphone\": 60,                # per year (ADEME)\n",
        "    \"laptop\": 200,                   # per year (ADEME)\n",
        "    \"desktop\": 300,                  # per year (ADEME)\n",
        "    \"streaming_hd\": 0.06,            # per hour (Shift Project)\n",
        "    \"streaming_4k\": 0.15,            # per hour (Shift Project)\n",
        "    \"social_media\": 0.01,            # per hour (Shift Project)\n",
        "    \"cloud_storage\": 0.2,            # per GB/year (Berkeley Lab)\n",
        "    \"email\": 0.000003,               # per email (Mike Berners-Lee)\n",
        "    \"gaming\": 0.14                   # per hour (ADEME)\n",
        "}\n",
        "\n",
        "# Global averages for comparison\n",
        "GLOBAL_AVERAGES = {\n",
        "    \"transport\": 2400,               # kg CO2e/year\n",
        "    \"diet\": 2000,\n",
        "    \"household\": 3000,\n",
        "    \"digital\": 400,\n",
        "    \"total\": 7800                    # World avg: 4.8t, US avg: 16t\n",
        "}"
      ],
      "metadata": {
        "id": "fyScbLrSEycC"
      },
      "execution_count": 23,
      "outputs": []
    },
    {
      "cell_type": "markdown",
      "source": [
        "###**Data Entry Functions**"
      ],
      "metadata": {
        "id": "WrTnUJo2E1HT"
      }
    },
    {
      "cell_type": "code",
      "source": [
        "def get_float(prompt, default=0.0, min_val=0.0):\n",
        "    \"\"\"Get float input with default value and validation\"\"\"\n",
        "    while True:\n",
        "        try:\n",
        "            value = input(f\"{prompt} [Default: {default}]: \").strip()\n",
        "            if value == \"\":\n",
        "                return default\n",
        "            value = float(value)\n",
        "            if value >= min_val:\n",
        "                return value\n",
        "            print(f\"Value must be >= {min_val}\")\n",
        "        except ValueError:\n",
        "            print(\"Please enter a valid number\")"
      ],
      "metadata": {
        "id": "5DPYD1MuE7UQ"
      },
      "execution_count": 24,
      "outputs": []
    },
    {
      "cell_type": "code",
      "source": [
        "def get_choice(prompt, choices, default=None):\n",
        "    \"\"\"Get choice from a list of options with default\"\"\"\n",
        "    choices = [c.lower() for c in choices]\n",
        "    default = default.lower() if default else choices[0]\n",
        "\n",
        "    while True:\n",
        "        choice = input(f\"{prompt} [{'/'.join(choices)}] (Default: {default}): \").lower().strip()\n",
        "        if choice == \"\":\n",
        "            return default\n",
        "        if choice in choices:\n",
        "            return choice\n",
        "        print(f\"Invalid choice. Please choose from: {', '.join(choices)}\")"
      ],
      "metadata": {
        "id": "Jwo84lHFE7XM"
      },
      "execution_count": 25,
      "outputs": []
    },
    {
      "cell_type": "code",
      "source": [
        "def get_mode():\n",
        "    \"\"\"Get calculation mode with default\"\"\"\n",
        "    return get_choice(\n",
        "        \"\\nChoose calculation mode:\",\n",
        "        choices=[\"1\", \"2\"],\n",
        "        default=\"1\"\n",
        "    )"
      ],
      "metadata": {
        "id": "SDdXVKnPE7aL"
      },
      "execution_count": 26,
      "outputs": []
    },
    {
      "cell_type": "code",
      "source": [
        "def get_transport_input():\n",
        "    \"\"\"Get transportation data with sensible defaults\"\"\"\n",
        "    print(\"\\n\" + \"-\"*20 + \" TRANSPORT \" + \"-\"*20)\n",
        "    car_type = get_choice(\n",
        "        \"Main vehicle type?\",\n",
        "        choices=[\"gasoline\", \"diesel\", \"electric\", \"none\"],\n",
        "        default=\"none\"\n",
        "    )\n",
        "\n",
        "    car_km = 0.0\n",
        "    if car_type != \"none\":\n",
        "        car_km = get_float(\"Weekly km driven:\", default=50.0)\n",
        "\n",
        "    flights = {\n",
        "        \"short_flights\": get_float(\"Annual short flights (<500km)?\", default=0.0),\n",
        "        \"long_flights\": get_float(\"Annual long flights (>500km)?\", default=0.0)\n",
        "    }\n",
        "\n",
        "    return {\n",
        "        \"car_type\": car_type,\n",
        "        \"car_km\": car_km,\n",
        "        **flights\n",
        "    }"
      ],
      "metadata": {
        "id": "SO-NbggRE7c5"
      },
      "execution_count": 27,
      "outputs": []
    },
    {
      "cell_type": "code",
      "source": [
        "def get_diet_input():\n",
        "    \"\"\"Get dietary data with sensible defaults\"\"\"\n",
        "    print(\"\\n\" + \"-\"*20 + \" DIET \" + \"-\"*20)\n",
        "    diet_type = get_choice(\n",
        "        \"Diet type?\",\n",
        "        choices=[\"meat_heavy\", \"meat_medium\", \"pescatarian\", \"vegetarian\", \"vegan\"],\n",
        "        default=\"meat_medium\"\n",
        "    )\n",
        "    meals_per_day = get_float(\"Meals per day:\", default=3.0, min_val=1.0)\n",
        "    return {\n",
        "        \"diet_type\": diet_type,\n",
        "        \"meals_per_day\": meals_per_day\n",
        "    }"
      ],
      "metadata": {
        "id": "M3n6L34ME7ft"
      },
      "execution_count": 28,
      "outputs": []
    },
    {
      "cell_type": "code",
      "source": [
        "def get_household_input():\n",
        "    \"\"\"Get household data with sensible defaults\"\"\"\n",
        "    print(\"\\n\" + \"-\"*20 + \" HOUSEHOLD \" + \"-\"*20)\n",
        "    return {\n",
        "        \"electricity\": get_float(\"Monthly electricity (kWh):\", default=150.0),\n",
        "        \"gas\": get_float(\"Monthly natural gas (m³) or heating oil (liters):\", default=80.0),\n",
        "        \"water\": get_float(\"Monthly water usage (m³):\", default=10.0)\n",
        "    }"
      ],
      "metadata": {
        "id": "hoFpuUmqE7io"
      },
      "execution_count": 29,
      "outputs": []
    },
    {
      "cell_type": "code",
      "source": [
        "def get_digital_input():\n",
        "    \"\"\"Get digital data with sensible defaults\"\"\"\n",
        "    print(\"\\n\" + \"-\"*20 + \" DIGITAL LIFE \" + \"-\"*20)\n",
        "    return {\n",
        "        \"devices\": {\n",
        "            \"smartphones\": get_float(\"Number of smartphones:\", default=1.0),\n",
        "            \"laptops\": get_float(\"Number of laptops:\", default=1.0),\n",
        "            \"desktops\": get_float(\"Number of desktops:\", default=0.0)\n",
        "        },\n",
        "        \"streaming_hrs\": get_float(\"Weekly video streaming hours:\", default=10.0),\n",
        "        \"streaming_quality\": get_choice(\"Primary streaming quality?\", [\"hd\", \"4k\"], \"hd\"),\n",
        "        \"social_media_hrs\": get_float(\"Daily social media hours:\", default=2.0),\n",
        "        \"cloud_storage\": get_float(\"Cloud storage used (GB):\", default=50.0),\n",
        "        \"emails\": get_float(\"Daily emails received:\", default=50.0),\n",
        "        \"gaming_hrs\": get_float(\"Weekly gaming hours:\", default=5.0)\n",
        "    }"
      ],
      "metadata": {
        "id": "MfKD_9N8E7lj"
      },
      "execution_count": 30,
      "outputs": []
    },
    {
      "cell_type": "markdown",
      "source": [
        "###**Footprint Calculations Fns**"
      ],
      "metadata": {
        "id": "yogGa__IFMq0"
      }
    },
    {
      "cell_type": "code",
      "source": [
        "def calculate_transport(data):\n",
        "    \"\"\"Calculate transport emissions with fallbacks\"\"\"\n",
        "    emissions = 0.0\n",
        "\n",
        "    # Car emissions\n",
        "    if data[\"car_type\"] != \"none\":\n",
        "        factor_key = f\"{data['car_type']}_car\"\n",
        "        if factor_key in TRANSPORT_FACTORS:\n",
        "            emissions += data[\"car_km\"] * 52 * TRANSPORT_FACTORS[factor_key]\n",
        "\n",
        "    # Flight emissions\n",
        "    emissions += data[\"short_flights\"] * TRANSPORT_FACTORS[\"short_flight\"]\n",
        "    emissions += data[\"long_flights\"] * TRANSPORT_FACTORS[\"long_flight\"]\n",
        "\n",
        "    return emissions"
      ],
      "metadata": {
        "id": "VZsBtbo8FSvn"
      },
      "execution_count": 31,
      "outputs": []
    },
    {
      "cell_type": "code",
      "source": [
        "def calculate_diet(data):\n",
        "    \"\"\"Calculate diet emissions with fallbacks\"\"\"\n",
        "    if data[\"diet_type\"] in DIET_FACTORS:\n",
        "        return data[\"meals_per_day\"] * 365 * DIET_FACTORS[data[\"diet_type\"]]\n",
        "    return 0.0  # Fallback for unknown diet"
      ],
      "metadata": {
        "id": "KY0k2zXOFSxw"
      },
      "execution_count": 32,
      "outputs": []
    },
    {
      "cell_type": "code",
      "source": [
        "def calculate_household(data):\n",
        "    \"\"\"Calculate household emissions with fallbacks\"\"\"\n",
        "    electricity = data[\"electricity\"] * 12 * HOUSEHOLD_FACTORS[\"electricity\"]\n",
        "    gas = data[\"gas\"] * 12 * HOUSEHOLD_FACTORS[\"natural_gas\"]\n",
        "    water = data[\"water\"] * 12 * HOUSEHOLD_FACTORS[\"water\"]\n",
        "    return electricity + gas + water"
      ],
      "metadata": {
        "id": "peBeZmwvFS0u"
      },
      "execution_count": 33,
      "outputs": []
    },
    {
      "cell_type": "code",
      "source": [
        "def calculate_digital(data):\n",
        "    \"\"\"Calculate digital emissions with fallbacks\"\"\"\n",
        "    emissions = 0.0\n",
        "\n",
        "    # Device emissions\n",
        "    for device, count in data[\"devices\"].items():\n",
        "        factor_key = device.rstrip('s')  # Convert \"smartphones\" to \"smartphone\"\n",
        "        if factor_key in DIGITAL_FACTORS:\n",
        "            emissions += count * DIGITAL_FACTORS[factor_key]\n",
        "\n",
        "    # Streaming\n",
        "    quality = \"streaming_4k\" if data[\"streaming_quality\"] == \"4k\" else \"streaming_hd\"\n",
        "    if quality in DIGITAL_FACTORS:\n",
        "        emissions += data[\"streaming_hrs\"] * 52 * DIGITAL_FACTORS[quality]\n",
        "\n",
        "    # Other digital activities\n",
        "    emissions += data[\"social_media_hrs\"] * 365 * DIGITAL_FACTORS[\"social_media\"]\n",
        "    emissions += data[\"cloud_storage\"] * DIGITAL_FACTORS[\"cloud_storage\"]\n",
        "    emissions += data[\"emails\"] * 365 * DIGITAL_FACTORS[\"email\"]\n",
        "    emissions += data[\"gaming_hrs\"] * 52 * DIGITAL_FACTORS[\"gaming\"]\n",
        "\n",
        "    return emissions"
      ],
      "metadata": {
        "id": "vbMjiCr_FS4g"
      },
      "execution_count": 34,
      "outputs": []
    },
    {
      "cell_type": "markdown",
      "source": [
        "###**Visualisation Fns**"
      ],
      "metadata": {
        "id": "IsOi-FvYFdqi"
      }
    },
    {
      "cell_type": "code",
      "source": [
        "def visualize_results(footprint_data):\n",
        "    \"\"\"Create adaptive visualization that handles zeros and small values\"\"\"\n",
        "    # Prepare data for pie chart\n",
        "    categories = []\n",
        "    sizes = []\n",
        "    colors = []\n",
        "\n",
        "    # Add only categories with non-zero emissions\n",
        "    if footprint_data['transport'] > 0:\n",
        "        categories.append('Transport')\n",
        "        sizes.append(footprint_data['transport'])\n",
        "        colors.append('#ff9999')\n",
        "\n",
        "    if footprint_data['diet'] > 0:\n",
        "        categories.append('Diet')\n",
        "        sizes.append(footprint_data['diet'])\n",
        "        colors.append('#66b3ff')\n",
        "\n",
        "    if footprint_data['household'] > 0:\n",
        "        categories.append('Household')\n",
        "        sizes.append(footprint_data['household'])\n",
        "        colors.append('#99ff99')\n",
        "\n",
        "    if footprint_data.get('digital', 0) > 0:\n",
        "        categories.append('Digital')\n",
        "        sizes.append(footprint_data['digital'])\n",
        "        colors.append('#ffcc99')\n",
        "\n",
        "    # Create figure with adaptive layout\n",
        "    fig = plt.figure(figsize=(12, 6))\n",
        "\n",
        "    # Pie chart (only if we have emissions)\n",
        "    if sizes:\n",
        "        ax1 = fig.add_subplot(121)\n",
        "        wedges, texts, autotexts = ax1.pie(\n",
        "            sizes,\n",
        "            labels=categories,\n",
        "            colors=colors,\n",
        "            autopct=lambda p: f'{p:.1f}%' if p > 5 else '',\n",
        "            startangle=90\n",
        "        )\n",
        "        ax1.axis('equal')\n",
        "        plt.setp(autotexts, size=10, weight=\"bold\")\n",
        "        plt.title('Carbon Footprint Breakdown')\n",
        "\n",
        "        # Add legend for small slices\n",
        "        if any(p < 5 for p in (np.array(sizes)/(sum(sizes)*100))):\n",
        "            plt.legend(\n",
        "                wedges,\n",
        "                categories,\n",
        "                title=\"Categories\",\n",
        "                loc=\"center left\",\n",
        "                bbox_to_anchor=(1, 0, 0.5, 1))\n",
        "\n",
        "    # Comparison chart\n",
        "    ax2 = fig.add_subplot(122)\n",
        "    compare_categories = ['You', 'Global Avg']\n",
        "    values = [footprint_data['total'] / 1000, GLOBAL_AVERAGES['total'] / 1000]\n",
        "    bars = ax2.bar(compare_categories, values, color=['#1f77b4', '#ff7f0e'])\n",
        "\n",
        "    # Add value labels\n",
        "    for bar in bars:\n",
        "        height = bar.get_height()\n",
        "        ax2.text(\n",
        "            bar.get_x() + bar.get_width()/2.,\n",
        "            height + 0.1,\n",
        "            f'{height:.1f}t',\n",
        "            ha='center',\n",
        "            va='bottom'\n",
        "        )\n",
        "\n",
        "    ax2.set_ylabel('Tonnes CO2e/year')\n",
        "    ax2.set_title('Global Comparison')\n",
        "    ax2.grid(axis='y', linestyle='--', alpha=0.7)\n",
        "\n",
        "    # Save and show\n",
        "    plt.tight_layout()\n",
        "    timestamp = datetime.now().strftime('%Y%m%d_%H%M%S')\n",
        "    plt.savefig(f\"footprint_{timestamp}.png\")\n",
        "    plt.show()"
      ],
      "metadata": {
        "id": "ytDMY0vcFS8Y"
      },
      "execution_count": 35,
      "outputs": []
    },
    {
      "cell_type": "markdown",
      "source": [
        "###**AI suggestions Fns Using Gemini**"
      ],
      "metadata": {
        "id": "iX4CWI-zFl7R"
      }
    },
    {
      "cell_type": "code",
      "source": [
        "def get_ai_recommendations(footprint_data, api_key):\n",
        "    \"\"\"Generate recommendations using Gemini API with fallback to generic text if any error occurs.\"\"\"\n",
        "    breakdown = \"\\n\".join(\n",
        "        f\"- {category}: {value:.1f} kg ({pct:.1f}%)\"\n",
        "        for category, value, pct in [\n",
        "            ('Transport', footprint_data['transport'], footprint_data['transport_pct']),\n",
        "            ('Diet', footprint_data['diet'], footprint_data['diet_pct']),\n",
        "            ('Household', footprint_data['household'], footprint_data['household_pct']),\n",
        "            ('Digital', footprint_data.get('digital', 0), footprint_data.get('digital_pct', 0))\n",
        "        ] if value > 0\n",
        "    )\n",
        "\n",
        "    prompt = f\"\"\"\n",
        "    Act as an environmental scientist. The user has an annual carbon footprint of {footprint_data['total']/1000:.1f} tonnes CO2e.\n",
        "    Breakdown:\n",
        "    {breakdown}\n",
        "\n",
        "    Provide 3 personalized, actionable recommendations to reduce their footprint. Focus on their highest impact areas, especially digital habits. Keep it concise and practical.\n",
        "    \"\"\"\n",
        "\n",
        "    fallback = (\n",
        "        \"1. **Reduce Meat Consumption** (Up to 500 kg CO2e/year)\\n\"\n",
        "        \"   - Replace 2 meat meals/week with vegetarian options\\n\"\n",
        "        \"   - Try plant-based dairy alternatives\\n\"\n",
        "        \"2. **Improve Home Energy Efficiency** (Up to 300 kg CO2e/year)\\n\"\n",
        "        \"   - Set thermostat lower in winter\\n\"\n",
        "        \"   - Switch to LED lighting\\n\"\n",
        "        \"   - Unplug devices when not in use\\n\"\n",
        "        \"3. **Optimize Digital Usage** (Up to 100 kg CO2e/year)\\n\"\n",
        "        \"   - Stream videos in SD when HD is not needed\\n\"\n",
        "        \"   - Unsubscribe from unnecessary emails and notifications\\n\"\n",
        "        \"   - Use cloud storage efficiently\\n\"\n",
        "    )\n",
        "\n",
        "    if not api_key:\n",
        "        print(\"\\nNo API key provided. Showing generic tips instead.\\n\")\n",
        "        print(fallback)\n",
        "        return fallback\n",
        "\n",
        "    try:\n",
        "        headers = {\"Content-Type\": \"application/json\"}\n",
        "        payload = {\n",
        "            \"contents\": [{\"parts\": [{\"text\": prompt}]}]\n",
        "        }\n",
        "        response = requests.post(\n",
        "            f\"https://generativelanguage.googleapis.com/v1beta/models/gemini-1.5-pro-latest:generateContent?key={api_key}\",\n",
        "            headers=headers,\n",
        "            json=payload,\n",
        "            timeout=10\n",
        "        )\n",
        "        response.raise_for_status()\n",
        "        # Gemini returns a list of \"candidates\", each with \"content\", which has \"parts\" -> \"text\"\n",
        "        suggestions = response.json()[\"candidates\"][0][\"content\"][\"parts\"][0][\"text\"]\n",
        "        print(\"\\nAI-Generated Recommendations:\\n\")\n",
        "        print(suggestions)\n",
        "        return suggestions\n",
        "\n",
        "    except Exception as e:\n",
        "        print(f\"\\nAI Error: {e}. Showing generic tips instead.\\n\")\n",
        "        print(fallback)\n",
        "        return fallback"
      ],
      "metadata": {
        "id": "HCDIdJ4SFS_i"
      },
      "execution_count": 36,
      "outputs": []
    },
    {
      "cell_type": "markdown",
      "source": [
        "###**Main Fn**"
      ],
      "metadata": {
        "id": "Tb-J1O8WGzdc"
      }
    },
    {
      "cell_type": "code",
      "execution_count": 37,
      "metadata": {
        "id": "GYyUaEFsDeKa"
      },
      "outputs": [],
      "source": [
        "def main():\n",
        "    print(\"\\n\" + \"=\"*50)\n",
        "    print(\"CARBON FOOTPRINT CALCULATOR\".center(50))\n",
        "    print(\"=\"*50)\n",
        "\n",
        "    # Get calculation mode\n",
        "    mode = get_mode()\n",
        "\n",
        "    # Collect data based on mode\n",
        "    transport_data = get_transport_input()\n",
        "    diet_data = get_diet_input()\n",
        "    household_data = get_household_input()\n",
        "    digital_data = {} if mode == \"1\" else get_digital_input()\n",
        "\n",
        "    # Calculate emissions\n",
        "    transport = calculate_transport(transport_data)\n",
        "    diet = calculate_diet(diet_data)\n",
        "    household = calculate_household(household_data)\n",
        "    digital = calculate_digital(digital_data) if mode == \"2\" else 0\n",
        "\n",
        "    total = transport + diet + household + digital\n",
        "\n",
        "    # Prepare results\n",
        "    footprint_data = {\n",
        "        \"transport\": transport,\n",
        "        \"diet\": diet,\n",
        "        \"household\": household,\n",
        "        \"total\": total,\n",
        "        \"transport_pct\": (transport / total) * 100 if total > 0 else 0,\n",
        "        \"diet_pct\": (diet / total) * 100 if total > 0 else 0,\n",
        "        \"household_pct\": (household / total) * 100 if total > 0 else 0,\n",
        "    }\n",
        "\n",
        "    if mode == \"2\":\n",
        "        footprint_data[\"digital\"] = digital\n",
        "        footprint_data[\"digital_pct\"] = (digital / total) * 100 if total > 0 else 0\n",
        "\n",
        "    # Display results\n",
        "    print(\"\\n\" + \"=\"*50)\n",
        "    print(\"CALCULATION RESULTS\".center(50))\n",
        "    print(\"=\"*50)\n",
        "    print(f\"\\n🚗 Transport: {transport:.1f} kg CO2e ({footprint_data['transport_pct']:.1f}%)\")\n",
        "    print(f\"🍖 Diet: {diet:.1f} kg CO2e ({footprint_data['diet_pct']:.1f}%)\")\n",
        "    print(f\"🏠 Household: {household:.1f} kg CO2e ({footprint_data['household_pct']:.1f}%)\")\n",
        "    if mode == \"2\":\n",
        "        print(f\"💻 Digital: {digital:.1f} kg CO2e ({footprint_data['digital_pct']:.1f}%)\")\n",
        "    print(f\"\\n✅ TOTAL ANNUAL FOOTPRINT: {total/1000:.2f} tonnes CO2e\")\n",
        "    print(f\"🌍 Global Average: {GLOBAL_AVERAGES['total']/1000:.1f} tonnes\")\n",
        "\n",
        "    # Generate visualization\n",
        "    visualize_results(footprint_data)\n",
        "\n",
        "    get_ai_recommendations(footprint_data, GEMINI_API_KEY)"
      ]
    },
    {
      "cell_type": "code",
      "source": [
        "if __name__ == \"__main__\":\n",
        "    main()"
      ],
      "metadata": {
        "colab": {
          "base_uri": "https://localhost:8080/",
          "height": 1000
        },
        "id": "3VY86gzfGwcN",
        "outputId": "02953d1d-1125-4010-bbd3-498f13cd894b"
      },
      "execution_count": 38,
      "outputs": [
        {
          "output_type": "stream",
          "name": "stdout",
          "text": [
            "\n",
            "==================================================\n",
            "           CARBON FOOTPRINT CALCULATOR            \n",
            "==================================================\n",
            "\n",
            "Choose calculation mode: [1/2] (Default: 1): 1\n",
            "\n",
            "-------------------- TRANSPORT --------------------\n",
            "Main vehicle type? [gasoline/diesel/electric/none] (Default: none): diesel\n",
            "Weekly km driven: [Default: 50.0]: 50\n",
            "Annual short flights (<500km)? [Default: 0.0]: 200\n",
            "Annual long flights (>500km)? [Default: 0.0]: 1000\n",
            "\n",
            "-------------------- DIET --------------------\n",
            "Diet type? [meat_heavy/meat_medium/pescatarian/vegetarian/vegan] (Default: meat_medium): \n",
            "Meals per day: [Default: 3.0]: 3\n",
            "\n",
            "-------------------- HOUSEHOLD --------------------\n",
            "Monthly electricity (kWh): [Default: 150.0]: 150\n",
            "Monthly natural gas (m³) or heating oil (liters): [Default: 80.0]: 20\n",
            "Monthly water usage (m³): [Default: 10.0]: 20\n",
            "\n",
            "==================================================\n",
            "               CALCULATION RESULTS                \n",
            "==================================================\n",
            "\n",
            "🚗 Transport: 674.6 kg CO2e (16.6%)\n",
            "🍖 Diet: 1971.0 kg CO2e (48.4%)\n",
            "🏠 Household: 1425.6 kg CO2e (35.0%)\n",
            "\n",
            "✅ TOTAL ANNUAL FOOTPRINT: 4.07 tonnes CO2e\n",
            "🌍 Global Average: 7.8 tonnes\n"
          ]
        },
        {
          "output_type": "display_data",
          "data": {
            "text/plain": [
              "<Figure size 1200x600 with 2 Axes>"
            ],
            "image/png": "[encoded data removed]"
          },
          "metadata": {}
        },
        {
          "output_type": "stream",
          "name": "stdout",
          "text": [
            "\n",
            "AI-Generated Recommendations:\n",
            "\n",
            "Your diet contributes the most to your carbon footprint.  Focusing efforts there will yield the largest gains. Here are three actionable recommendations:\n",
            "\n",
            "1. **Reduce beef consumption:**  Beef production is carbon-intensive. Aim for one beef-free day per week initially, then gradually increase it. Substitute with poultry, beans, lentils, or plant-based meat alternatives. \n",
            "\n",
            "2. **Minimize food waste:**  Plan meals, use leftovers creatively, and compost food scraps. Wasted food represents embedded carbon emissions released for no benefit.\n",
            "\n",
            "3. **Streamline digital consumption:** While less impactful than diet in your case, seemingly small digital actions add up. Download files instead of streaming whenever possible (movies, music), unsubscribe from unwanted email lists to reduce data center storage, and delete unnecessary cloud-stored files. This reduces energy demand in data centers.\n",
            "\n"
          ]
        }
      ]
    },
    {
      "cell_type": "markdown",
      "source": [
        "###**Thank you for using our Calculator...**"
      ],
      "metadata": {
        "id": "f9_hOkLlEJFS"
      }
    }
  ]
}